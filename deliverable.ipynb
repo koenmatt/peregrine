{
 "cells": [
  {
   "cell_type": "markdown",
   "id": "5c6d0152-61c9-4e69-b1dc-6f6cb6e60585",
   "metadata": {},
   "source": [
    "#### Install and import the dependencies"
   ]
  },
  {
   "cell_type": "code",
   "execution_count": 23,
   "id": "f6242766-bd71-426f-8cb3-03b9deb9c126",
   "metadata": {
    "tags": []
   },
   "outputs": [],
   "source": [
    "!pip install -r requirements.txt --quiet"
   ]
  },
  {
   "cell_type": "code",
   "execution_count": 246,
   "id": "5f906ae0-6fd2-4773-8516-5b66be220f69",
   "metadata": {
    "tags": []
   },
   "outputs": [],
   "source": [
    "import numpy as np\n",
    "import pandas as pd\n",
    "import seaborn as sns\n",
    "import matplotlib.pyplot as plt\n",
    "import warnings\n",
    "import helpers\n",
    "from scipy import stats\n",
    "from datetime import datetime\n",
    "from scipy.stats import norm\n",
    "from sklearn.ensemble import IsolationForest\n",
    "warnings.filterwarnings('ignore')\n",
    "%matplotlib inline"
   ]
  },
  {
   "cell_type": "markdown",
   "id": "aaf354a9-3e6f-47d8-a4e2-9f5e2f38c0d6",
   "metadata": {},
   "source": [
    "#### Convert to HTML for GitHub Pages"
   ]
  },
  {
   "cell_type": "markdown",
   "id": "9ea2971b-5f3c-4fdb-9106-13027403c9bc",
   "metadata": {},
   "source": [
    "`jupyter nbconvert --to html deliverable.ipynb --output index.html`"
   ]
  },
  {
   "cell_type": "markdown",
   "id": "54782f4c-3e28-46ba-b7cc-47d81451fc0e",
   "metadata": {},
   "source": [
    "# Part 1"
   ]
  },
  {
   "cell_type": "markdown",
   "id": "42e65c9a-4d21-44b5-92f4-11d9eb57006e",
   "metadata": {},
   "source": [
    "First, lets look at our data, and analyze any missing values"
   ]
  },
  {
   "cell_type": "markdown",
   "id": "cbf6569b-9e88-4d1f-a869-626059b3c81d",
   "metadata": {},
   "source": [
    "<!-- In \"The Art of War\", Sun Tzu, chinese philospher and military strategist, says: \n",
    "\n",
    "**\"Know thy self, know thy enemy.\"**\n",
    "\n",
    "As a data scientist, what I really think he meant was: \n",
    "\n",
    "**\"Know thy data, know thy confounders.\"**\n",
    " -->"
   ]
  },
  {
   "cell_type": "code",
   "execution_count": 247,
   "id": "396f3aed-07ab-4dff-9298-b7f8eeac38e6",
   "metadata": {
    "tags": []
   },
   "outputs": [
    {
     "name": "stdout",
     "output_type": "stream",
     "text": [
      "--------------------\n",
      "Shape: (11399, 25)\n",
      "--------------------\n"
     ]
    },
    {
     "data": {
      "text/html": [
       "<div>\n",
       "<style scoped>\n",
       "    .dataframe tbody tr th:only-of-type {\n",
       "        vertical-align: middle;\n",
       "    }\n",
       "\n",
       "    .dataframe tbody tr th {\n",
       "        vertical-align: top;\n",
       "    }\n",
       "\n",
       "    .dataframe thead th {\n",
       "        text-align: right;\n",
       "    }\n",
       "</style>\n",
       "<table border=\"1\" class=\"dataframe\">\n",
       "  <thead>\n",
       "    <tr style=\"text-align: right;\">\n",
       "      <th></th>\n",
       "      <th>Send DateTime</th>\n",
       "      <th>Pay DateTime</th>\n",
       "      <th>Amount</th>\n",
       "      <th>Sender Name_</th>\n",
       "      <th>Sender Address_</th>\n",
       "      <th>Sender ID1 info</th>\n",
       "      <th>Sender City</th>\n",
       "      <th>Sender State</th>\n",
       "      <th>Payee Name_</th>\n",
       "      <th>Payee Address_</th>\n",
       "      <th>...</th>\n",
       "      <th>Send Agent State</th>\n",
       "      <th>Send Country</th>\n",
       "      <th>Send Operator Name_</th>\n",
       "      <th>Pay Agent Name_</th>\n",
       "      <th>Pay Agent City</th>\n",
       "      <th>Pay Agent State</th>\n",
       "      <th>Pay Country</th>\n",
       "      <th>Pay Operator Name_</th>\n",
       "      <th>Sender Age</th>\n",
       "      <th>Payee Age</th>\n",
       "    </tr>\n",
       "  </thead>\n",
       "  <tbody>\n",
       "    <tr>\n",
       "      <th>0</th>\n",
       "      <td>12/26/2015 13:01</td>\n",
       "      <td>12/28/2015 9:19</td>\n",
       "      <td>990.0</td>\n",
       "      <td>name_1</td>\n",
       "      <td>address_1</td>\n",
       "      <td>1</td>\n",
       "      <td>PALO ALTO</td>\n",
       "      <td>CA</td>\n",
       "      <td>name_742</td>\n",
       "      <td>address_2615</td>\n",
       "      <td>...</td>\n",
       "      <td>CA</td>\n",
       "      <td>UNITED STATES</td>\n",
       "      <td>operator_name_3</td>\n",
       "      <td>agent_1</td>\n",
       "      <td>MORELIA</td>\n",
       "      <td>NaN</td>\n",
       "      <td>MEXICO</td>\n",
       "      <td>operator_name_0</td>\n",
       "      <td>40.0</td>\n",
       "      <td>NaN</td>\n",
       "    </tr>\n",
       "    <tr>\n",
       "      <th>1</th>\n",
       "      <td>12/28/2015 15:36</td>\n",
       "      <td>12/28/2015 19:15</td>\n",
       "      <td>690.0</td>\n",
       "      <td>name_2</td>\n",
       "      <td>address_2</td>\n",
       "      <td>0</td>\n",
       "      <td>SAN JOSE</td>\n",
       "      <td>CA</td>\n",
       "      <td>name_3020</td>\n",
       "      <td>address_2616</td>\n",
       "      <td>...</td>\n",
       "      <td>CA</td>\n",
       "      <td>UNITED STATES</td>\n",
       "      <td>operator_name_12</td>\n",
       "      <td>agent_2</td>\n",
       "      <td>MANZANILLO</td>\n",
       "      <td>NaN</td>\n",
       "      <td>MEXICO</td>\n",
       "      <td>operator_name_0</td>\n",
       "      <td>50.0</td>\n",
       "      <td>NaN</td>\n",
       "    </tr>\n",
       "    <tr>\n",
       "      <th>2</th>\n",
       "      <td>11/30/2015 20:55</td>\n",
       "      <td>12/1/2015 18:39</td>\n",
       "      <td>990.0</td>\n",
       "      <td>name_3</td>\n",
       "      <td>address_3</td>\n",
       "      <td>1</td>\n",
       "      <td>REDWOOD CITY</td>\n",
       "      <td>CA</td>\n",
       "      <td>name_3021</td>\n",
       "      <td>address_2617</td>\n",
       "      <td>...</td>\n",
       "      <td>CA</td>\n",
       "      <td>UNITED STATES</td>\n",
       "      <td>operator_name_3</td>\n",
       "      <td>agent_3</td>\n",
       "      <td>YANGA</td>\n",
       "      <td>NaN</td>\n",
       "      <td>MEXICO</td>\n",
       "      <td>operator_name_0</td>\n",
       "      <td>47.0</td>\n",
       "      <td>NaN</td>\n",
       "    </tr>\n",
       "    <tr>\n",
       "      <th>3</th>\n",
       "      <td>12/8/2015 15:33</td>\n",
       "      <td>12/8/2015 17:37</td>\n",
       "      <td>1000.0</td>\n",
       "      <td>name_4</td>\n",
       "      <td>address_4</td>\n",
       "      <td>1</td>\n",
       "      <td>SAN CARLOS</td>\n",
       "      <td>CA</td>\n",
       "      <td>name_2609</td>\n",
       "      <td>address_2618</td>\n",
       "      <td>...</td>\n",
       "      <td>CA</td>\n",
       "      <td>UNITED STATES</td>\n",
       "      <td>operator_name_12</td>\n",
       "      <td>agent_4</td>\n",
       "      <td>GUADALAJARA</td>\n",
       "      <td>NaN</td>\n",
       "      <td>MEXICO</td>\n",
       "      <td>operator_name_0</td>\n",
       "      <td>51.0</td>\n",
       "      <td>53.0</td>\n",
       "    </tr>\n",
       "    <tr>\n",
       "      <th>4</th>\n",
       "      <td>12/10/2015 14:48</td>\n",
       "      <td>12/10/2015 15:48</td>\n",
       "      <td>830.0</td>\n",
       "      <td>name_5</td>\n",
       "      <td>address_5</td>\n",
       "      <td>0</td>\n",
       "      <td>EAST PALO ALTO</td>\n",
       "      <td>CA</td>\n",
       "      <td>name_3022</td>\n",
       "      <td>address_2619</td>\n",
       "      <td>...</td>\n",
       "      <td>CA</td>\n",
       "      <td>UNITED STATES</td>\n",
       "      <td>operator_name_12</td>\n",
       "      <td>agent_5</td>\n",
       "      <td>SAN SALVADOR</td>\n",
       "      <td>NaN</td>\n",
       "      <td>EL SALVADOR</td>\n",
       "      <td>operator_name_0</td>\n",
       "      <td>49.0</td>\n",
       "      <td>NaN</td>\n",
       "    </tr>\n",
       "  </tbody>\n",
       "</table>\n",
       "<p>5 rows × 25 columns</p>\n",
       "</div>"
      ],
      "text/plain": [
       "      Send DateTime      Pay DateTime  Amount Sender Name_ Sender Address_  \\\n",
       "0  12/26/2015 13:01   12/28/2015 9:19   990.0       name_1       address_1   \n",
       "1  12/28/2015 15:36  12/28/2015 19:15   690.0       name_2       address_2   \n",
       "2  11/30/2015 20:55   12/1/2015 18:39   990.0       name_3       address_3   \n",
       "3   12/8/2015 15:33   12/8/2015 17:37  1000.0       name_4       address_4   \n",
       "4  12/10/2015 14:48  12/10/2015 15:48   830.0       name_5       address_5   \n",
       "\n",
       "   Sender ID1 info     Sender City Sender State Payee Name_ Payee Address_  \\\n",
       "0                1       PALO ALTO           CA    name_742   address_2615   \n",
       "1                0        SAN JOSE           CA   name_3020   address_2616   \n",
       "2                1    REDWOOD CITY           CA   name_3021   address_2617   \n",
       "3                1      SAN CARLOS           CA   name_2609   address_2618   \n",
       "4                0  EAST PALO ALTO           CA   name_3022   address_2619   \n",
       "\n",
       "   ...  Send Agent State   Send Country Send Operator Name_ Pay Agent Name_  \\\n",
       "0  ...                CA  UNITED STATES     operator_name_3         agent_1   \n",
       "1  ...                CA  UNITED STATES    operator_name_12         agent_2   \n",
       "2  ...                CA  UNITED STATES     operator_name_3         agent_3   \n",
       "3  ...                CA  UNITED STATES    operator_name_12         agent_4   \n",
       "4  ...                CA  UNITED STATES    operator_name_12         agent_5   \n",
       "\n",
       "  Pay Agent City Pay Agent State  Pay Country Pay Operator Name_ Sender Age  \\\n",
       "0        MORELIA             NaN       MEXICO    operator_name_0       40.0   \n",
       "1     MANZANILLO             NaN       MEXICO    operator_name_0       50.0   \n",
       "2          YANGA             NaN       MEXICO    operator_name_0       47.0   \n",
       "3    GUADALAJARA             NaN       MEXICO    operator_name_0       51.0   \n",
       "4   SAN SALVADOR             NaN  EL SALVADOR    operator_name_0       49.0   \n",
       "\n",
       "  Payee Age  \n",
       "0       NaN  \n",
       "1       NaN  \n",
       "2       NaN  \n",
       "3      53.0  \n",
       "4       NaN  \n",
       "\n",
       "[5 rows x 25 columns]"
      ]
     },
     "execution_count": 247,
     "metadata": {},
     "output_type": "execute_result"
    }
   ],
   "source": [
    "FILE_PATH = 'AML exercise - dataset.xlsx'\n",
    "df = pd.read_excel(FILE_PATH)\n",
    "df = df.drop([\"Unnamed: 0\"], axis = 1)\n",
    "print(\"--------------------\")\n",
    "print(f\"Shape: {df.shape}\")\n",
    "print(\"--------------------\")\n",
    "df.head()"
   ]
  },
  {
   "cell_type": "code",
   "execution_count": 248,
   "id": "1902dc5f-f214-42cb-a4a0-ba183e92e536",
   "metadata": {
    "tags": []
   },
   "outputs": [
    {
     "data": {
      "text/plain": [
       "Index(['Send DateTime', 'Pay DateTime', 'Amount', 'Sender Name_',\n",
       "       'Sender Address_', 'Sender ID1 info', 'Sender City', 'Sender State',\n",
       "       'Payee Name_', 'Payee Address_', 'Payee ID1 info', 'Payee City',\n",
       "       'Payee State', 'Send Agent Name_', 'Send Agent City',\n",
       "       'Send Agent State', 'Send Country', 'Send Operator Name_',\n",
       "       'Pay Agent Name_', 'Pay Agent City', 'Pay Agent State', 'Pay Country',\n",
       "       'Pay Operator Name_', 'Sender Age', 'Payee Age'],\n",
       "      dtype='object')"
      ]
     },
     "execution_count": 248,
     "metadata": {},
     "output_type": "execute_result"
    }
   ],
   "source": [
    "df.columns"
   ]
  },
  {
   "cell_type": "code",
   "execution_count": 249,
   "id": "d010c599-4572-4e95-bd0f-37d90ae69502",
   "metadata": {
    "tags": []
   },
   "outputs": [
    {
     "data": {
      "text/html": [
       "<div>\n",
       "<style scoped>\n",
       "    .dataframe tbody tr th:only-of-type {\n",
       "        vertical-align: middle;\n",
       "    }\n",
       "\n",
       "    .dataframe tbody tr th {\n",
       "        vertical-align: top;\n",
       "    }\n",
       "\n",
       "    .dataframe thead th {\n",
       "        text-align: right;\n",
       "    }\n",
       "</style>\n",
       "<table border=\"1\" class=\"dataframe\">\n",
       "  <thead>\n",
       "    <tr style=\"text-align: right;\">\n",
       "      <th></th>\n",
       "      <th>Total</th>\n",
       "      <th>Percent</th>\n",
       "    </tr>\n",
       "  </thead>\n",
       "  <tbody>\n",
       "    <tr>\n",
       "      <th>Payee State</th>\n",
       "      <td>7864</td>\n",
       "      <td>0.689885</td>\n",
       "    </tr>\n",
       "    <tr>\n",
       "      <th>Pay Agent State</th>\n",
       "      <td>7318</td>\n",
       "      <td>0.641986</td>\n",
       "    </tr>\n",
       "    <tr>\n",
       "      <th>Payee Age</th>\n",
       "      <td>3383</td>\n",
       "      <td>0.296780</td>\n",
       "    </tr>\n",
       "    <tr>\n",
       "      <th>Sender Age</th>\n",
       "      <td>2820</td>\n",
       "      <td>0.247390</td>\n",
       "    </tr>\n",
       "    <tr>\n",
       "      <th>Payee City</th>\n",
       "      <td>671</td>\n",
       "      <td>0.058865</td>\n",
       "    </tr>\n",
       "    <tr>\n",
       "      <th>Send Agent State</th>\n",
       "      <td>185</td>\n",
       "      <td>0.016229</td>\n",
       "    </tr>\n",
       "    <tr>\n",
       "      <th>Sender State</th>\n",
       "      <td>170</td>\n",
       "      <td>0.014914</td>\n",
       "    </tr>\n",
       "    <tr>\n",
       "      <th>Pay Country</th>\n",
       "      <td>11</td>\n",
       "      <td>0.000965</td>\n",
       "    </tr>\n",
       "    <tr>\n",
       "      <th>Pay DateTime</th>\n",
       "      <td>11</td>\n",
       "      <td>0.000965</td>\n",
       "    </tr>\n",
       "    <tr>\n",
       "      <th>Pay Agent City</th>\n",
       "      <td>11</td>\n",
       "      <td>0.000965</td>\n",
       "    </tr>\n",
       "    <tr>\n",
       "      <th>Sender City</th>\n",
       "      <td>5</td>\n",
       "      <td>0.000439</td>\n",
       "    </tr>\n",
       "    <tr>\n",
       "      <th>Sender Name_</th>\n",
       "      <td>0</td>\n",
       "      <td>0.000000</td>\n",
       "    </tr>\n",
       "    <tr>\n",
       "      <th>Send Operator Name_</th>\n",
       "      <td>0</td>\n",
       "      <td>0.000000</td>\n",
       "    </tr>\n",
       "    <tr>\n",
       "      <th>Pay Operator Name_</th>\n",
       "      <td>0</td>\n",
       "      <td>0.000000</td>\n",
       "    </tr>\n",
       "    <tr>\n",
       "      <th>Amount</th>\n",
       "      <td>0</td>\n",
       "      <td>0.000000</td>\n",
       "    </tr>\n",
       "    <tr>\n",
       "      <th>Pay Agent Name_</th>\n",
       "      <td>0</td>\n",
       "      <td>0.000000</td>\n",
       "    </tr>\n",
       "    <tr>\n",
       "      <th>Send Agent City</th>\n",
       "      <td>0</td>\n",
       "      <td>0.000000</td>\n",
       "    </tr>\n",
       "    <tr>\n",
       "      <th>Send Country</th>\n",
       "      <td>0</td>\n",
       "      <td>0.000000</td>\n",
       "    </tr>\n",
       "    <tr>\n",
       "      <th>Sender Address_</th>\n",
       "      <td>0</td>\n",
       "      <td>0.000000</td>\n",
       "    </tr>\n",
       "    <tr>\n",
       "      <th>Send Agent Name_</th>\n",
       "      <td>0</td>\n",
       "      <td>0.000000</td>\n",
       "    </tr>\n",
       "  </tbody>\n",
       "</table>\n",
       "</div>"
      ],
      "text/plain": [
       "                     Total   Percent\n",
       "Payee State           7864  0.689885\n",
       "Pay Agent State       7318  0.641986\n",
       "Payee Age             3383  0.296780\n",
       "Sender Age            2820  0.247390\n",
       "Payee City             671  0.058865\n",
       "Send Agent State       185  0.016229\n",
       "Sender State           170  0.014914\n",
       "Pay Country             11  0.000965\n",
       "Pay DateTime            11  0.000965\n",
       "Pay Agent City          11  0.000965\n",
       "Sender City              5  0.000439\n",
       "Sender Name_             0  0.000000\n",
       "Send Operator Name_      0  0.000000\n",
       "Pay Operator Name_       0  0.000000\n",
       "Amount                   0  0.000000\n",
       "Pay Agent Name_          0  0.000000\n",
       "Send Agent City          0  0.000000\n",
       "Send Country             0  0.000000\n",
       "Sender Address_          0  0.000000\n",
       "Send Agent Name_         0  0.000000"
      ]
     },
     "execution_count": 249,
     "metadata": {},
     "output_type": "execute_result"
    }
   ],
   "source": [
    "missing_data = helpers.describe_missing_data(df)\n",
    "missing_data.head(20)"
   ]
  },
  {
   "cell_type": "markdown",
   "id": "bde31404-ba25-49ee-9ded-cba16590abd9",
   "metadata": {},
   "source": [
    "### Transaction Frequency and Time between Wire and Recieve"
   ]
  },
  {
   "cell_type": "markdown",
   "id": "de3e1931-ac93-45fb-89ef-c0859b61fcec",
   "metadata": {},
   "source": [
    "#### Sender Frequency"
   ]
  },
  {
   "cell_type": "code",
   "execution_count": 250,
   "id": "1bbd0ac0-1885-4a1a-9943-246db658a5c4",
   "metadata": {
    "tags": []
   },
   "outputs": [
    {
     "name": "stdout",
     "output_type": "stream",
     "text": [
      "There are 3019 unique senders\n"
     ]
    }
   ],
   "source": [
    "print(f\"There are {len(df['Sender Name_'].unique())} unique senders\")"
   ]
  },
  {
   "cell_type": "code",
   "execution_count": 251,
   "id": "e1f5f0cf-994d-44f0-837b-d50a8281e596",
   "metadata": {
    "tags": []
   },
   "outputs": [
    {
     "name": "stdout",
     "output_type": "stream",
     "text": [
      "There are 4658 unique recievers\n"
     ]
    }
   ],
   "source": [
    "print(f\"There are {len(df['Payee Name_'].unique())} unique recievers\")"
   ]
  },
  {
   "cell_type": "code",
   "execution_count": 252,
   "id": "5be5f4d3-4e02-4499-aa07-c2908f6fe9cb",
   "metadata": {
    "tags": []
   },
   "outputs": [
    {
     "data": {
      "text/plain": [
       "True"
      ]
     },
     "execution_count": 252,
     "metadata": {},
     "output_type": "execute_result"
    }
   ],
   "source": [
    "sender_freq = pd.DataFrame(df.groupby('Sender Name_').count()['Send DateTime']) #selecting 'Send DateTime' because there are no missing values\n",
    "sender_freq.columns = [\"sent_freq\"]\n",
    "len(sender_freq) == len(df['Sender Name_'].unique()) # ensure all values are captured"
   ]
  },
  {
   "cell_type": "code",
   "execution_count": 253,
   "id": "0a7d13c4-104e-4575-a85d-3cd936e9ae08",
   "metadata": {},
   "outputs": [
    {
     "data": {
      "text/html": [
       "<div>\n",
       "<style scoped>\n",
       "    .dataframe tbody tr th:only-of-type {\n",
       "        vertical-align: middle;\n",
       "    }\n",
       "\n",
       "    .dataframe tbody tr th {\n",
       "        vertical-align: top;\n",
       "    }\n",
       "\n",
       "    .dataframe thead th {\n",
       "        text-align: right;\n",
       "    }\n",
       "</style>\n",
       "<table border=\"1\" class=\"dataframe\">\n",
       "  <thead>\n",
       "    <tr style=\"text-align: right;\">\n",
       "      <th></th>\n",
       "      <th>sent_freq</th>\n",
       "    </tr>\n",
       "    <tr>\n",
       "      <th>Sender Name_</th>\n",
       "      <th></th>\n",
       "    </tr>\n",
       "  </thead>\n",
       "  <tbody>\n",
       "    <tr>\n",
       "      <th>name_10</th>\n",
       "      <td>301</td>\n",
       "    </tr>\n",
       "    <tr>\n",
       "      <th>name_104</th>\n",
       "      <td>95</td>\n",
       "    </tr>\n",
       "    <tr>\n",
       "      <th>name_45</th>\n",
       "      <td>92</td>\n",
       "    </tr>\n",
       "    <tr>\n",
       "      <th>name_234</th>\n",
       "      <td>74</td>\n",
       "    </tr>\n",
       "    <tr>\n",
       "      <th>name_1111</th>\n",
       "      <td>73</td>\n",
       "    </tr>\n",
       "    <tr>\n",
       "      <th>name_1337</th>\n",
       "      <td>70</td>\n",
       "    </tr>\n",
       "    <tr>\n",
       "      <th>name_119</th>\n",
       "      <td>67</td>\n",
       "    </tr>\n",
       "    <tr>\n",
       "      <th>name_134</th>\n",
       "      <td>64</td>\n",
       "    </tr>\n",
       "    <tr>\n",
       "      <th>name_115</th>\n",
       "      <td>64</td>\n",
       "    </tr>\n",
       "    <tr>\n",
       "      <th>name_55</th>\n",
       "      <td>59</td>\n",
       "    </tr>\n",
       "  </tbody>\n",
       "</table>\n",
       "</div>"
      ],
      "text/plain": [
       "              sent_freq\n",
       "Sender Name_           \n",
       "name_10             301\n",
       "name_104             95\n",
       "name_45              92\n",
       "name_234             74\n",
       "name_1111            73\n",
       "name_1337            70\n",
       "name_119             67\n",
       "name_134             64\n",
       "name_115             64\n",
       "name_55              59"
      ]
     },
     "execution_count": 253,
     "metadata": {},
     "output_type": "execute_result"
    }
   ],
   "source": [
    "sender_freq.sort_values(by='sent_freq', ascending=False).head(10)"
   ]
  },
  {
   "cell_type": "code",
   "execution_count": 254,
   "id": "8f2e5c20-ffea-48e2-8497-7e8a29ed63a0",
   "metadata": {
    "tags": []
   },
   "outputs": [
    {
     "data": {
      "image/png": "[encoded data removed]",
      "text/plain": [
       "<Figure size 640x480 with 1 Axes>"
      ]
     },
     "metadata": {},
     "output_type": "display_data"
    }
   ],
   "source": [
    "sns.distplot(np.log(sender_freq['sent_freq']))\n",
    "plt.title(\"Frequency of Sender Transactions - Log Transformation\"); #log transformation helps spread out the data "
   ]
  },
  {
   "cell_type": "code",
   "execution_count": 255,
   "id": "55300349-5843-4699-b1ca-ed12a6d57cfd",
   "metadata": {
    "tags": []
   },
   "outputs": [
    {
     "data": {
      "text/html": [
       "<div>\n",
       "<style scoped>\n",
       "    .dataframe tbody tr th:only-of-type {\n",
       "        vertical-align: middle;\n",
       "    }\n",
       "\n",
       "    .dataframe tbody tr th {\n",
       "        vertical-align: top;\n",
       "    }\n",
       "\n",
       "    .dataframe thead th {\n",
       "        text-align: right;\n",
       "    }\n",
       "</style>\n",
       "<table border=\"1\" class=\"dataframe\">\n",
       "  <thead>\n",
       "    <tr style=\"text-align: right;\">\n",
       "      <th></th>\n",
       "      <th>payee_freq</th>\n",
       "    </tr>\n",
       "    <tr>\n",
       "      <th>Payee Name_</th>\n",
       "      <th></th>\n",
       "    </tr>\n",
       "  </thead>\n",
       "  <tbody>\n",
       "    <tr>\n",
       "      <th>name_3062</th>\n",
       "      <td>82</td>\n",
       "    </tr>\n",
       "    <tr>\n",
       "      <th>name_4344</th>\n",
       "      <td>70</td>\n",
       "    </tr>\n",
       "    <tr>\n",
       "      <th>name_3269</th>\n",
       "      <td>55</td>\n",
       "    </tr>\n",
       "    <tr>\n",
       "      <th>name_3298</th>\n",
       "      <td>53</td>\n",
       "    </tr>\n",
       "    <tr>\n",
       "      <th>name_5375</th>\n",
       "      <td>53</td>\n",
       "    </tr>\n",
       "    <tr>\n",
       "      <th>name_3281</th>\n",
       "      <td>52</td>\n",
       "    </tr>\n",
       "    <tr>\n",
       "      <th>name_4779</th>\n",
       "      <td>48</td>\n",
       "    </tr>\n",
       "    <tr>\n",
       "      <th>name_3756</th>\n",
       "      <td>44</td>\n",
       "    </tr>\n",
       "    <tr>\n",
       "      <th>name_4512</th>\n",
       "      <td>44</td>\n",
       "    </tr>\n",
       "    <tr>\n",
       "      <th>name_3149</th>\n",
       "      <td>42</td>\n",
       "    </tr>\n",
       "  </tbody>\n",
       "</table>\n",
       "</div>"
      ],
      "text/plain": [
       "             payee_freq\n",
       "Payee Name_            \n",
       "name_3062            82\n",
       "name_4344            70\n",
       "name_3269            55\n",
       "name_3298            53\n",
       "name_5375            53\n",
       "name_3281            52\n",
       "name_4779            48\n",
       "name_3756            44\n",
       "name_4512            44\n",
       "name_3149            42"
      ]
     },
     "execution_count": 255,
     "metadata": {},
     "output_type": "execute_result"
    }
   ],
   "source": [
    "payee_freq = pd.DataFrame(df.groupby('Payee Name_').count()['Send DateTime'])\n",
    "payee_freq.columns = [\"payee_freq\"]\n",
    "payee_freq.sort_values(by='payee_freq', ascending=False).head(10)"
   ]
  },
  {
   "cell_type": "code",
   "execution_count": 256,
   "id": "871462c2-74c6-4f94-9a8f-5bf0ce356183",
   "metadata": {
    "tags": []
   },
   "outputs": [
    {
     "data": {
      "image/png": "[encoded data removed]",
      "text/plain": [
       "<Figure size 640x480 with 1 Axes>"
      ]
     },
     "metadata": {},
     "output_type": "display_data"
    }
   ],
   "source": [
    "sns.distplot(np.log(payee_freq['payee_freq']))\n",
    "plt.title(\"Frequency of Payee Transactions - Log Transformation\");"
   ]
  },
  {
   "cell_type": "markdown",
   "id": "b4b37baa-faed-4ea7-a47b-8b44158c8a61",
   "metadata": {},
   "source": [
    "### Send and Pay Agents"
   ]
  },
  {
   "cell_type": "code",
   "execution_count": 257,
   "id": "85dd5eb8-2a43-433d-a68e-a539241a46cf",
   "metadata": {
    "tags": []
   },
   "outputs": [
    {
     "name": "stdout",
     "output_type": "stream",
     "text": [
      "There are 2519 unique pay agents\n"
     ]
    }
   ],
   "source": [
    "print(f\"There are {len(df['Pay Agent Name_'].unique())} unique pay agents\")"
   ]
  },
  {
   "cell_type": "code",
   "execution_count": 258,
   "id": "f8037e03-d8ef-40bb-bfaa-a33b331f22b7",
   "metadata": {
    "tags": []
   },
   "outputs": [
    {
     "name": "stdout",
     "output_type": "stream",
     "text": [
      "There are 398 unique send agents\n"
     ]
    }
   ],
   "source": [
    "print(f\"There are {len(df['Send Agent Name_'].unique())} unique send agents\")"
   ]
  },
  {
   "cell_type": "code",
   "execution_count": 259,
   "id": "50c49dd4-2b0b-4851-bd8c-106a7e4ea50b",
   "metadata": {
    "tags": []
   },
   "outputs": [
    {
     "data": {
      "text/html": [
       "<div>\n",
       "<style scoped>\n",
       "    .dataframe tbody tr th:only-of-type {\n",
       "        vertical-align: middle;\n",
       "    }\n",
       "\n",
       "    .dataframe tbody tr th {\n",
       "        vertical-align: top;\n",
       "    }\n",
       "\n",
       "    .dataframe thead th {\n",
       "        text-align: right;\n",
       "    }\n",
       "</style>\n",
       "<table border=\"1\" class=\"dataframe\">\n",
       "  <thead>\n",
       "    <tr style=\"text-align: right;\">\n",
       "      <th></th>\n",
       "      <th>txn_freq</th>\n",
       "    </tr>\n",
       "    <tr>\n",
       "      <th>Pay Agent Name_</th>\n",
       "      <th></th>\n",
       "    </tr>\n",
       "  </thead>\n",
       "  <tbody>\n",
       "    <tr>\n",
       "      <th>agent_11</th>\n",
       "      <td>966</td>\n",
       "    </tr>\n",
       "    <tr>\n",
       "      <th>agent_39</th>\n",
       "      <td>200</td>\n",
       "    </tr>\n",
       "    <tr>\n",
       "      <th>agent_73</th>\n",
       "      <td>182</td>\n",
       "    </tr>\n",
       "    <tr>\n",
       "      <th>agent_16</th>\n",
       "      <td>166</td>\n",
       "    </tr>\n",
       "    <tr>\n",
       "      <th>agent_6</th>\n",
       "      <td>153</td>\n",
       "    </tr>\n",
       "  </tbody>\n",
       "</table>\n",
       "</div>"
      ],
      "text/plain": [
       "                 txn_freq\n",
       "Pay Agent Name_          \n",
       "agent_11              966\n",
       "agent_39              200\n",
       "agent_73              182\n",
       "agent_16              166\n",
       "agent_6               153"
      ]
     },
     "execution_count": 259,
     "metadata": {},
     "output_type": "execute_result"
    }
   ],
   "source": [
    "pay_agent_freq = pd.DataFrame(df.groupby('Pay Agent Name_').count()['Send DateTime'])\n",
    "pay_agent_freq.columns = ['txn_freq']\n",
    "pay_agent_freq.sort_values(by='txn_freq', ascending=False).head(5)"
   ]
  },
  {
   "cell_type": "code",
   "execution_count": 260,
   "id": "b14e56ee-45bd-404b-bd96-12640b139b15",
   "metadata": {
    "tags": []
   },
   "outputs": [
    {
     "data": {
      "image/png": "[encoded data removed]",
      "text/plain": [
       "<Figure size 640x480 with 1 Axes>"
      ]
     },
     "metadata": {},
     "output_type": "display_data"
    }
   ],
   "source": [
    "sns.distplot(np.log(pay_agent_freq['txn_freq']))\n",
    "plt.title(\"Frequency of Txns for Pay Agents - Log Transformation\");"
   ]
  },
  {
   "cell_type": "code",
   "execution_count": 261,
   "id": "f53e26f3-72c5-4265-b00d-3efcf4fc8127",
   "metadata": {
    "tags": []
   },
   "outputs": [
    {
     "data": {
      "text/html": [
       "<div>\n",
       "<style scoped>\n",
       "    .dataframe tbody tr th:only-of-type {\n",
       "        vertical-align: middle;\n",
       "    }\n",
       "\n",
       "    .dataframe tbody tr th {\n",
       "        vertical-align: top;\n",
       "    }\n",
       "\n",
       "    .dataframe thead th {\n",
       "        text-align: right;\n",
       "    }\n",
       "</style>\n",
       "<table border=\"1\" class=\"dataframe\">\n",
       "  <thead>\n",
       "    <tr style=\"text-align: right;\">\n",
       "      <th></th>\n",
       "      <th>txn_freq</th>\n",
       "    </tr>\n",
       "    <tr>\n",
       "      <th>Send Agent Name_</th>\n",
       "      <th></th>\n",
       "    </tr>\n",
       "  </thead>\n",
       "  <tbody>\n",
       "    <tr>\n",
       "      <th>agent_11</th>\n",
       "      <td>10468</td>\n",
       "    </tr>\n",
       "    <tr>\n",
       "      <th>agent_39</th>\n",
       "      <td>291</td>\n",
       "    </tr>\n",
       "    <tr>\n",
       "      <th>agent_2792</th>\n",
       "      <td>18</td>\n",
       "    </tr>\n",
       "    <tr>\n",
       "      <th>agent_667</th>\n",
       "      <td>12</td>\n",
       "    </tr>\n",
       "    <tr>\n",
       "      <th>agent_2683</th>\n",
       "      <td>11</td>\n",
       "    </tr>\n",
       "  </tbody>\n",
       "</table>\n",
       "</div>"
      ],
      "text/plain": [
       "                  txn_freq\n",
       "Send Agent Name_          \n",
       "agent_11             10468\n",
       "agent_39               291\n",
       "agent_2792              18\n",
       "agent_667               12\n",
       "agent_2683              11"
      ]
     },
     "execution_count": 261,
     "metadata": {},
     "output_type": "execute_result"
    }
   ],
   "source": [
    "send_agent_freq = pd.DataFrame(df.groupby('Send Agent Name_').count()['Send DateTime'])\n",
    "send_agent_freq.columns = ['txn_freq']\n",
    "send_agent_freq.sort_values(by='txn_freq', ascending=False).head(5)"
   ]
  },
  {
   "cell_type": "code",
   "execution_count": 262,
   "id": "2bd54095-0da9-47a7-accc-0652265716dd",
   "metadata": {
    "tags": []
   },
   "outputs": [
    {
     "data": {
      "image/png": "[encoded data removed]",
      "text/plain": [
       "<Figure size 640x480 with 1 Axes>"
      ]
     },
     "metadata": {},
     "output_type": "display_data"
    }
   ],
   "source": [
    "sns.distplot(np.log(send_agent_freq['txn_freq']))\n",
    "plt.title(\"Frequency of Txns for Send Agents - Log Transformation\");"
   ]
  },
  {
   "cell_type": "markdown",
   "id": "7666ae1f-9796-4f43-918f-3cf8ee248b56",
   "metadata": {
    "tags": []
   },
   "source": [
    "### Send and Pay Locations"
   ]
  },
  {
   "cell_type": "code",
   "execution_count": 579,
   "id": "152f5c34-79ea-46f3-96b2-1e10825b4483",
   "metadata": {
    "tags": []
   },
   "outputs": [
    {
     "data": {
      "image/png": "[encoded data removed]",
      "text/plain": [
       "<Figure size 640x480 with 1 Axes>"
      ]
     },
     "metadata": {},
     "output_type": "display_data"
    }
   ],
   "source": [
    "sns.histplot(df['Send Country'])\n",
    "plt.xticks(rotation=90);"
   ]
  },
  {
   "cell_type": "code",
   "execution_count": 581,
   "id": "5e19e954-23d6-4d57-90ee-1062aa401131",
   "metadata": {
    "tags": []
   },
   "outputs": [
    {
     "data": {
      "image/png": "[encoded data removed]",
      "text/plain": [
       "<Figure size 1000x600 with 1 Axes>"
      ]
     },
     "metadata": {},
     "output_type": "display_data"
    }
   ],
   "source": [
    "plt.figure(figsize=(10, 6))  # Adjust width as needed, height is optional\n",
    "\n",
    "sns.histplot(df['Pay Country'])\n",
    "plt.xticks(rotation=90);"
   ]
  },
  {
   "cell_type": "markdown",
   "id": "5e8f52dc-277c-4e15-baab-e5f7e9e00370",
   "metadata": {},
   "source": [
    "Here, we see users are using this service to primarily send money out of the country, potentially to family members back in Latin America."
   ]
  },
  {
   "cell_type": "markdown",
   "id": "17f15246-25b7-44d8-9aef-9500da0736e3",
   "metadata": {},
   "source": [
    "## Wiring and recieving transactions"
   ]
  },
  {
   "cell_type": "code",
   "execution_count": 264,
   "id": "d796fb0e-ae3c-4351-a7ba-2c168882dcda",
   "metadata": {
    "tags": []
   },
   "outputs": [],
   "source": [
    "date_format = '%m/%d/%Y %H:%M'\n",
    "df_time = df.dropna(subset=['Pay DateTime'])\n",
    "df_time['Send DateTime_DT'] = df_time['Send DateTime'].apply(lambda x: datetime.strptime(x, date_format))\n",
    "df_time['Pay DateTime_DT'] = df_time['Pay DateTime'].apply(lambda x: datetime.strptime(x, date_format))"
   ]
  },
  {
   "cell_type": "code",
   "execution_count": 265,
   "id": "a574d25a-3c5c-4386-bc7f-9de11f7ab0e7",
   "metadata": {
    "tags": []
   },
   "outputs": [],
   "source": [
    "df_time['wire_recieve_diff'] = df_time['Pay DateTime_DT'] - df_time['Send DateTime_DT']"
   ]
  },
  {
   "cell_type": "code",
   "execution_count": 266,
   "id": "778af122-b5e2-467f-bb64-8c71ba7d78e2",
   "metadata": {
    "tags": []
   },
   "outputs": [],
   "source": [
    "df_time['wire_recieve_diff_minutes'] = df_time['wire_recieve_diff'].apply(lambda x: (x.total_seconds() / 60))"
   ]
  },
  {
   "cell_type": "code",
   "execution_count": 267,
   "id": "6eb8a0de-85c6-487d-8119-f57a60d0e180",
   "metadata": {
    "tags": []
   },
   "outputs": [
    {
     "data": {
      "text/plain": [
       "2272          0.0\n",
       "6037          0.0\n",
       "2916          0.0\n",
       "336           0.0\n",
       "7478          0.0\n",
       "           ...   \n",
       "5499      49492.0\n",
       "928       57468.0\n",
       "3960      62068.0\n",
       "10316    130990.0\n",
       "3575     988391.0\n",
       "Name: wire_recieve_diff_minutes, Length: 11388, dtype: float64"
      ]
     },
     "execution_count": 267,
     "metadata": {},
     "output_type": "execute_result"
    }
   ],
   "source": [
    "df_time['wire_recieve_diff_minutes'].sort_values(ascending = True)"
   ]
  },
  {
   "cell_type": "code",
   "execution_count": 268,
   "id": "ee6f34d2-ca53-4636-99dd-6dbe5611586b",
   "metadata": {
    "tags": []
   },
   "outputs": [],
   "source": [
    "zero_time = df_time[df_time['wire_recieve_diff_minutes'] == 0]"
   ]
  },
  {
   "cell_type": "code",
   "execution_count": 269,
   "id": "48a11516-015a-4c6b-82f2-7b2c922d51db",
   "metadata": {
    "tags": []
   },
   "outputs": [
    {
     "name": "stdout",
     "output_type": "stream",
     "text": [
      "There are 43 transactions that were sent and recieved in less than 1 minute\n"
     ]
    }
   ],
   "source": [
    "print(f\"There are {len(zero_time)} transactions that were sent and recieved in less than 1 minute\")"
   ]
  },
  {
   "cell_type": "markdown",
   "id": "227921ee-23cd-476a-a25c-05298df7dc0c",
   "metadata": {},
   "source": [
    "This is interesting, these people recieved the money in less than a minute, and are red flags. I will definently keep an eye on these, but will store them in a seperate dataframe so we can spread out the data a little bit with a log transformation."
   ]
  },
  {
   "cell_type": "code",
   "execution_count": 270,
   "id": "0bc9ef98-dcd7-4909-8ac9-ccd35bc6b995",
   "metadata": {
    "tags": []
   },
   "outputs": [
    {
     "data": {
      "text/plain": [
       "Text(0.5, 1.0, 'Time between wiring and recieving, log transformation (excluding <0 transactions)')"
      ]
     },
     "execution_count": 270,
     "metadata": {},
     "output_type": "execute_result"
    },
    {
     "data": {
      "image/png": "[encoded data removed]",
      "text/plain": [
       "<Figure size 640x480 with 1 Axes>"
      ]
     },
     "metadata": {},
     "output_type": "display_data"
    }
   ],
   "source": [
    "sns.distplot(np.log(df_time[df_time['wire_recieve_diff_minutes'] > 0]['wire_recieve_diff_minutes']))\n",
    "plt.title(\"Time between wiring and recieving, log transformation (excluding <0 transactions)\")"
   ]
  },
  {
   "cell_type": "code",
   "execution_count": 271,
   "id": "2d23052b-e0ca-458c-b5e5-275e2f7cc6bb",
   "metadata": {
    "tags": []
   },
   "outputs": [
    {
     "data": {
      "text/plain": [
       "Text(0.5, 1.0, 'Txn Amount Distribution, Log Transformation')"
      ]
     },
     "execution_count": 271,
     "metadata": {},
     "output_type": "execute_result"
    },
    {
     "data": {
      "image/png": "[encoded data removed]",
      "text/plain": [
       "<Figure size 640x480 with 1 Axes>"
      ]
     },
     "metadata": {},
     "output_type": "display_data"
    }
   ],
   "source": [
    "sns.distplot(np.log(df['Amount']))\n",
    "plt.title(\"Txn Amount Distribution, Log Transformation\")"
   ]
  },
  {
   "cell_type": "markdown",
   "id": "dee5ef52-d062-4747-ab98-c769e1f63564",
   "metadata": {},
   "source": [
    "### Analyze multiple different addresses from same user"
   ]
  },
  {
   "cell_type": "markdown",
   "id": "edb58657-895e-4625-a61c-7c71fea03878",
   "metadata": {},
   "source": [
    "## Explanation and Thoughts"
   ]
  },
  {
   "cell_type": "markdown",
   "id": "1f9ca612-4324-498b-8f35-19a483e14bb5",
   "metadata": {},
   "source": [
    "After doing a little EDA on the dataset, a few things stand out. I chose to perform log transformations on most distributions to spread out the data. This allows for the data to be more \"normal\" which will aid when finding outliers, and allows us to view the data in a better spread. \n",
    "\n",
    "Most distributions have long tails, indicating the presence of outliers. All of the distributions with long tails are features in which the HIGH outliers are of interest ie. transaction frequency and transaction amount. Our wiring and receiving outliers will be on the left tail, indiciting fast transaction times. This spread isn't as large. \n",
    "\n",
    "Now, to confidently identify suspcicious individuals, I will find the outliers in each feature using a few different methods. Then, my plan is to find individuals who are outliers in all of the metrics, and recommend those for further investigation. \n",
    "\n",
    "The metrics I will use are: \n",
    "\n",
    "1. Transaction size - flag transactions with outlier size\n",
    "2. Pay Agent Frequency - flag pay agents with large frequency\n",
    "3. Send Agent Frequency - flag send agents with large frequency\n",
    "4. Wiring Time - flag agents with low wiring time\n",
    "5. Sender Frequency - flag senders with large frequency\n",
    "6. Reciever Frequency - flag recievers with large frequency\n",
    "\n"
   ]
  },
  {
   "cell_type": "markdown",
   "id": "2a1a70a2-9925-46c0-8830-8d16635ee250",
   "metadata": {},
   "source": [
    "# Indentifying Outliers - IQR, Isolation Forest"
   ]
  },
  {
   "cell_type": "markdown",
   "id": "192a72ae-82d7-431c-9f79-975d450c85ad",
   "metadata": {},
   "source": [
    "### By Transaction"
   ]
  },
  {
   "cell_type": "code",
   "execution_count": 449,
   "id": "f3d157f5-b5de-4c50-ae93-348100ceeba8",
   "metadata": {
    "tags": []
   },
   "outputs": [
    {
     "data": {
      "text/html": [
       "<div>\n",
       "<style scoped>\n",
       "    .dataframe tbody tr th:only-of-type {\n",
       "        vertical-align: middle;\n",
       "    }\n",
       "\n",
       "    .dataframe tbody tr th {\n",
       "        vertical-align: top;\n",
       "    }\n",
       "\n",
       "    .dataframe thead th {\n",
       "        text-align: right;\n",
       "    }\n",
       "</style>\n",
       "<table border=\"1\" class=\"dataframe\">\n",
       "  <thead>\n",
       "    <tr style=\"text-align: right;\">\n",
       "      <th></th>\n",
       "      <th>Amount</th>\n",
       "      <th>Sender Name_</th>\n",
       "      <th>Payee Name_</th>\n",
       "      <th>wire_recieve_diff_minutes</th>\n",
       "      <th>log_amount</th>\n",
       "    </tr>\n",
       "  </thead>\n",
       "  <tbody>\n",
       "    <tr>\n",
       "      <th>0</th>\n",
       "      <td>990.0</td>\n",
       "      <td>name_1</td>\n",
       "      <td>name_742</td>\n",
       "      <td>2658.0</td>\n",
       "      <td>6.897705</td>\n",
       "    </tr>\n",
       "    <tr>\n",
       "      <th>1</th>\n",
       "      <td>690.0</td>\n",
       "      <td>name_2</td>\n",
       "      <td>name_3020</td>\n",
       "      <td>219.0</td>\n",
       "      <td>6.536692</td>\n",
       "    </tr>\n",
       "    <tr>\n",
       "      <th>2</th>\n",
       "      <td>990.0</td>\n",
       "      <td>name_3</td>\n",
       "      <td>name_3021</td>\n",
       "      <td>1304.0</td>\n",
       "      <td>6.897705</td>\n",
       "    </tr>\n",
       "    <tr>\n",
       "      <th>3</th>\n",
       "      <td>1000.0</td>\n",
       "      <td>name_4</td>\n",
       "      <td>name_2609</td>\n",
       "      <td>124.0</td>\n",
       "      <td>6.907755</td>\n",
       "    </tr>\n",
       "    <tr>\n",
       "      <th>4</th>\n",
       "      <td>830.0</td>\n",
       "      <td>name_5</td>\n",
       "      <td>name_3022</td>\n",
       "      <td>60.0</td>\n",
       "      <td>6.721426</td>\n",
       "    </tr>\n",
       "  </tbody>\n",
       "</table>\n",
       "</div>"
      ],
      "text/plain": [
       "   Amount Sender Name_ Payee Name_  wire_recieve_diff_minutes  log_amount\n",
       "0   990.0       name_1    name_742                     2658.0    6.897705\n",
       "1   690.0       name_2   name_3020                      219.0    6.536692\n",
       "2   990.0       name_3   name_3021                     1304.0    6.897705\n",
       "3  1000.0       name_4   name_2609                      124.0    6.907755\n",
       "4   830.0       name_5   name_3022                       60.0    6.721426"
      ]
     },
     "execution_count": 449,
     "metadata": {},
     "output_type": "execute_result"
    }
   ],
   "source": [
    "by_txn = df_time[['Amount', 'Sender Name_', 'Payee Name_', 'wire_recieve_diff_minutes']]\n",
    "by_txn['log_amount'] = by_txn['Amount'].apply(lambda x: np.log(x)) \n",
    "by_txn.head()"
   ]
  },
  {
   "cell_type": "markdown",
   "id": "8cf80642-ee11-4ca7-bdc4-48b05e6bddf1",
   "metadata": {},
   "source": [
    "I apply a log transformation because Isolation Forests work better on Gaussian data. I will now find how much data is an outlier by IQR to determine a reasonable contamination parameter for my Isolation Forest"
   ]
  },
  {
   "cell_type": "code",
   "execution_count": 450,
   "id": "e014a350-a0f8-493d-a2ba-3800c441e507",
   "metadata": {
    "tags": []
   },
   "outputs": [],
   "source": [
    "def IQR_outlier(col_name, df):\n",
    "    data = df[col_name]\n",
    "    Q1 = np.percentile(data, 25)\n",
    "    Q3 = np.percentile(data, 75)\n",
    "    IQR = Q3 - Q1\n",
    "    lower_bound = Q1 - 1.5 * IQR\n",
    "    upper_bound = Q3 + 1.5 * IQR\n",
    "    print(f\"lower bound: {lower_bound}\")\n",
    "    print(f\"upper bound: {upper_bound}\")\n",
    "    outliers = df[(df[col_name] < lower_bound) | (df[col_name] > upper_bound)]\n",
    "    return outliers"
   ]
  },
  {
   "cell_type": "code",
   "execution_count": 451,
   "id": "f7cd78eb-5136-47fa-88b5-2d3187446cec",
   "metadata": {
    "tags": []
   },
   "outputs": [
    {
     "name": "stdout",
     "output_type": "stream",
     "text": [
      "lower bound: 5.583901755061227\n",
      "upper bound: 7.7020673933346835\n"
     ]
    }
   ],
   "source": [
    "outliers = IQR_outlier(\"log_amount\", by_txn)"
   ]
  },
  {
   "cell_type": "code",
   "execution_count": 452,
   "id": "44fdbb63-2aa4-4c5a-be4b-d9e3f236aaea",
   "metadata": {
    "tags": []
   },
   "outputs": [],
   "source": [
    "greater_than_zero = df_time[df_time['wire_recieve_diff_minutes'] > 0]\n",
    "greater_than_zero['log_time'] = greater_than_zero['wire_recieve_diff_minutes'].apply(lambda x: np.log(x))"
   ]
  },
  {
   "cell_type": "code",
   "execution_count": 453,
   "id": "eb91c465-a00e-4c9a-b8e3-c43a54372316",
   "metadata": {
    "tags": []
   },
   "outputs": [
    {
     "name": "stdout",
     "output_type": "stream",
     "text": [
      "lower bound: 1.5815397345079658\n",
      "upper bound: 10.963744250017921\n"
     ]
    },
    {
     "data": {
      "text/plain": [
       "4.862436912211303"
      ]
     },
     "execution_count": 453,
     "metadata": {},
     "output_type": "execute_result"
    }
   ],
   "source": [
    "outliers = IQR_outlier(\"log_time\", greater_than_zero)\n",
    "np.exp(1.5815397345079658)"
   ]
  },
  {
   "cell_type": "code",
   "execution_count": 454,
   "id": "1a7023bc-4d7c-46d8-abd8-9592682ddd47",
   "metadata": {
    "tags": []
   },
   "outputs": [],
   "source": [
    "def isoForestDf(features, df, c = 'auto'):\n",
    "    X_train = df[features]\n",
    "    clf = IsolationForest(contamination=c)\n",
    "    clf.fit(X_train)\n",
    "    outliers = clf.predict(X_train)\n",
    "    df['outliers'] = outliers"
   ]
  },
  {
   "cell_type": "code",
   "execution_count": 455,
   "id": "f7a0b969-daea-4c51-a32c-e883497994d9",
   "metadata": {
    "tags": []
   },
   "outputs": [],
   "source": [
    "beta_contamination = len(outliers) / len(df)"
   ]
  },
  {
   "cell_type": "code",
   "execution_count": 456,
   "id": "42ecf679-7ebb-4689-9dca-84f52a73332f",
   "metadata": {
    "tags": []
   },
   "outputs": [
    {
     "data": {
      "text/html": [
       "<div>\n",
       "<style scoped>\n",
       "    .dataframe tbody tr th:only-of-type {\n",
       "        vertical-align: middle;\n",
       "    }\n",
       "\n",
       "    .dataframe tbody tr th {\n",
       "        vertical-align: top;\n",
       "    }\n",
       "\n",
       "    .dataframe thead th {\n",
       "        text-align: right;\n",
       "    }\n",
       "</style>\n",
       "<table border=\"1\" class=\"dataframe\">\n",
       "  <thead>\n",
       "    <tr style=\"text-align: right;\">\n",
       "      <th></th>\n",
       "      <th>Amount</th>\n",
       "      <th>Sender Name_</th>\n",
       "      <th>Payee Name_</th>\n",
       "      <th>wire_recieve_diff_minutes</th>\n",
       "      <th>log_amount</th>\n",
       "      <th>outlier</th>\n",
       "    </tr>\n",
       "  </thead>\n",
       "  <tbody>\n",
       "    <tr>\n",
       "      <th>15</th>\n",
       "      <td>1429.00</td>\n",
       "      <td>name_10</td>\n",
       "      <td>name_58</td>\n",
       "      <td>1.0</td>\n",
       "      <td>7.264730</td>\n",
       "      <td>-1</td>\n",
       "    </tr>\n",
       "    <tr>\n",
       "      <th>199</th>\n",
       "      <td>1122.00</td>\n",
       "      <td>name_10</td>\n",
       "      <td>name_259</td>\n",
       "      <td>1.0</td>\n",
       "      <td>7.022868</td>\n",
       "      <td>-1</td>\n",
       "    </tr>\n",
       "    <tr>\n",
       "      <th>266</th>\n",
       "      <td>509.99</td>\n",
       "      <td>name_10</td>\n",
       "      <td>name_2364</td>\n",
       "      <td>0.0</td>\n",
       "      <td>6.234391</td>\n",
       "      <td>-1</td>\n",
       "    </tr>\n",
       "    <tr>\n",
       "      <th>403</th>\n",
       "      <td>1515.00</td>\n",
       "      <td>name_10</td>\n",
       "      <td>name_324</td>\n",
       "      <td>1.0</td>\n",
       "      <td>7.323171</td>\n",
       "      <td>-1</td>\n",
       "    </tr>\n",
       "    <tr>\n",
       "      <th>542</th>\n",
       "      <td>2550.00</td>\n",
       "      <td>name_10</td>\n",
       "      <td>name_633</td>\n",
       "      <td>2.0</td>\n",
       "      <td>7.843849</td>\n",
       "      <td>-1</td>\n",
       "    </tr>\n",
       "    <tr>\n",
       "      <th>...</th>\n",
       "      <td>...</td>\n",
       "      <td>...</td>\n",
       "      <td>...</td>\n",
       "      <td>...</td>\n",
       "      <td>...</td>\n",
       "      <td>...</td>\n",
       "    </tr>\n",
       "    <tr>\n",
       "      <th>10065</th>\n",
       "      <td>2347.00</td>\n",
       "      <td>name_10</td>\n",
       "      <td>name_2727</td>\n",
       "      <td>2.0</td>\n",
       "      <td>7.760893</td>\n",
       "      <td>-1</td>\n",
       "    </tr>\n",
       "    <tr>\n",
       "      <th>10705</th>\n",
       "      <td>509.99</td>\n",
       "      <td>name_10</td>\n",
       "      <td>name_813</td>\n",
       "      <td>2.0</td>\n",
       "      <td>6.234391</td>\n",
       "      <td>-1</td>\n",
       "    </tr>\n",
       "    <tr>\n",
       "      <th>10769</th>\n",
       "      <td>512.50</td>\n",
       "      <td>name_10</td>\n",
       "      <td>name_2865</td>\n",
       "      <td>2.0</td>\n",
       "      <td>6.239301</td>\n",
       "      <td>-1</td>\n",
       "    </tr>\n",
       "    <tr>\n",
       "      <th>10875</th>\n",
       "      <td>1460.00</td>\n",
       "      <td>name_10</td>\n",
       "      <td>name_2994</td>\n",
       "      <td>2.0</td>\n",
       "      <td>7.286192</td>\n",
       "      <td>-1</td>\n",
       "    </tr>\n",
       "    <tr>\n",
       "      <th>11111</th>\n",
       "      <td>503.99</td>\n",
       "      <td>name_10</td>\n",
       "      <td>name_2951</td>\n",
       "      <td>3.0</td>\n",
       "      <td>6.222556</td>\n",
       "      <td>-1</td>\n",
       "    </tr>\n",
       "  </tbody>\n",
       "</table>\n",
       "<p>93 rows × 6 columns</p>\n",
       "</div>"
      ],
      "text/plain": [
       "        Amount Sender Name_ Payee Name_  wire_recieve_diff_minutes  \\\n",
       "15     1429.00      name_10     name_58                        1.0   \n",
       "199    1122.00      name_10    name_259                        1.0   \n",
       "266     509.99      name_10   name_2364                        0.0   \n",
       "403    1515.00      name_10    name_324                        1.0   \n",
       "542    2550.00      name_10    name_633                        2.0   \n",
       "...        ...          ...         ...                        ...   \n",
       "10065  2347.00      name_10   name_2727                        2.0   \n",
       "10705   509.99      name_10    name_813                        2.0   \n",
       "10769   512.50      name_10   name_2865                        2.0   \n",
       "10875  1460.00      name_10   name_2994                        2.0   \n",
       "11111   503.99      name_10   name_2951                        3.0   \n",
       "\n",
       "       log_amount  outlier  \n",
       "15       7.264730       -1  \n",
       "199      7.022868       -1  \n",
       "266      6.234391       -1  \n",
       "403      7.323171       -1  \n",
       "542      7.843849       -1  \n",
       "...           ...      ...  \n",
       "10065    7.760893       -1  \n",
       "10705    6.234391       -1  \n",
       "10769    6.239301       -1  \n",
       "10875    7.286192       -1  \n",
       "11111    6.222556       -1  \n",
       "\n",
       "[93 rows x 6 columns]"
      ]
     },
     "execution_count": 456,
     "metadata": {},
     "output_type": "execute_result"
    }
   ],
   "source": [
    "X_train = by_txn[['log_amount']]\n",
    "clf = IsolationForest(contamination='auto')\n",
    "clf.fit(X_train)\n",
    "outliers = clf.predict(X_train)\n",
    "by_txn['outlier'] = outliers\n",
    "filtered_data_txn = by_txn[(by_txn['outlier'] == -1) & (by_txn['wire_recieve_diff_minutes'] < 5)]\n",
    "\n",
    "filtered_data_txn"
   ]
  },
  {
   "cell_type": "code",
   "execution_count": 457,
   "id": "01717d95-e780-4ff6-9f09-90b6d9ce247b",
   "metadata": {
    "tags": []
   },
   "outputs": [
    {
     "data": {
      "text/plain": [
       "array(['name_10', 'name_2043'], dtype=object)"
      ]
     },
     "execution_count": 457,
     "metadata": {},
     "output_type": "execute_result"
    }
   ],
   "source": [
    "filtered_data_txn['Sender Name_'].unique()"
   ]
  },
  {
   "cell_type": "markdown",
   "id": "8b10faee-c021-4ad0-ba6f-28c54f61f698",
   "metadata": {},
   "source": [
    "The dataset filtered_data includes all individuals with an outlier amount, and the transaction was recieved in less than 5 minutes, because the lower bound of our IQR of the log of the difference between wire recieved and wire accepted, then exponentiated to get back the original time, was 5. I originally did a multivariate IsolationTree, but using our domain knowledge, we only really want to isolate transactions with a very small transaction wait period. We see only two names showing up, and name_10 shows up a lot.   "
   ]
  },
  {
   "cell_type": "markdown",
   "id": "4961224c-ae10-43f8-bad5-2608de8fb850",
   "metadata": {},
   "source": [
    "### By Individuals "
   ]
  },
  {
   "cell_type": "markdown",
   "id": "9a62bc9a-b444-4f3e-98ce-d10f45d15ed4",
   "metadata": {},
   "source": [
    "Now, lets do the same thing, but for individuals instead of transactions. We also have a little bit more information, and can better determine our contamination parameters in a multivariate Isolation Forest"
   ]
  },
  {
   "cell_type": "code",
   "execution_count": 493,
   "id": "0a646df4-a2e6-4ab4-aa97-cea7662cdea3",
   "metadata": {
    "tags": []
   },
   "outputs": [],
   "source": [
    "pay_agent_freq.columns = ['pay_txn_freq']\n",
    "send_agent_freq.columns = ['send_txn_freq']"
   ]
  },
  {
   "cell_type": "code",
   "execution_count": 494,
   "id": "5dc964b0-12d2-46d1-824b-5e314dd6d04c",
   "metadata": {
    "tags": []
   },
   "outputs": [],
   "source": [
    "merged_df = pd.merge(df, sender_freq, on='Sender Name_', how='left')\n",
    "merged_df = pd.merge(merged_df, payee_freq, on='Payee Name_', how='left')\n",
    "merged_df = pd.merge(merged_df, pay_agent_freq, on='Pay Agent Name_', how='left')\n",
    "merged_df = pd.merge(merged_df, send_agent_freq, on='Send Agent Name_', how='left')"
   ]
  },
  {
   "cell_type": "code",
   "execution_count": 495,
   "id": "9b36dfc4-5da1-4766-8a07-831328ca904e",
   "metadata": {
    "tags": []
   },
   "outputs": [],
   "source": [
    "feat = merged_df[['Sender Name_', 'Payee Name_', 'Pay Agent Name_','Send Agent Name_','payee_freq', 'pay_txn_freq', 'send_txn_freq', 'sent_freq']]"
   ]
  },
  {
   "cell_type": "code",
   "execution_count": 496,
   "id": "a94f752d-b18d-4c27-aee7-666e66cb37b1",
   "metadata": {
    "tags": []
   },
   "outputs": [],
   "source": [
    "feat = feat.reset_index()"
   ]
  },
  {
   "cell_type": "code",
   "execution_count": 497,
   "id": "7ae90d97-72de-499a-a0a5-7051473077a6",
   "metadata": {
    "tags": []
   },
   "outputs": [],
   "source": [
    "feat.columns = ['txn_id', 'Sender Name_', 'Payee Name_', 'Pay Agent Name_','Send Agent Name_','payee_freq', 'pay_txn_freq', 'send_txn_freq', 'sent_freq']"
   ]
  },
  {
   "cell_type": "code",
   "execution_count": 498,
   "id": "f8a34d57-a8de-435d-b26d-e0e862bcaa41",
   "metadata": {
    "tags": []
   },
   "outputs": [],
   "source": [
    "X_train = feat[['payee_freq', 'pay_txn_freq', 'send_txn_freq', 'sent_freq']]\n",
    "clf = IsolationForest(contamination=.005)\n",
    "clf.fit(X_train)\n",
    "outliers = clf.predict(X_train)\n",
    "feat['outlier'] = outliers\n",
    "outlier_feat = feat[feat['outlier'] == -1]"
   ]
  },
  {
   "cell_type": "code",
   "execution_count": 499,
   "id": "c063f902-0194-48f8-8bc3-f5c966284504",
   "metadata": {
    "tags": []
   },
   "outputs": [
    {
     "name": "stdout",
     "output_type": "stream",
     "text": [
      "Number of suspicious senders: 3\n",
      "Total senders in dataset: 3019\n"
     ]
    },
    {
     "data": {
      "text/plain": [
       "['name_10', 'name_1968', 'name_2748']"
      ]
     },
     "execution_count": 499,
     "metadata": {},
     "output_type": "execute_result"
    }
   ],
   "source": [
    "print(f\"Number of suspicious senders: {len(outlier_feat['Sender Name_'].unique())}\")\n",
    "print(f\"Total senders in dataset: {len(df['Sender Name_'].unique())}\")\n",
    "list(outlier_feat['Sender Name_'].unique())"
   ]
  },
  {
   "cell_type": "code",
   "execution_count": 500,
   "id": "e62ce359-676f-4d33-b764-e820ef204b96",
   "metadata": {
    "tags": []
   },
   "outputs": [
    {
     "name": "stdout",
     "output_type": "stream",
     "text": [
      "Number of suspicious payees: 13\n",
      "Total payees in dataset: 4658\n"
     ]
    },
    {
     "data": {
      "text/plain": [
       "['name_58',\n",
       " 'name_247',\n",
       " 'name_191',\n",
       " 'name_1119',\n",
       " 'name_309',\n",
       " 'name_261',\n",
       " 'name_1706',\n",
       " 'name_4059',\n",
       " 'name_5257',\n",
       " 'name_195',\n",
       " 'name_2401',\n",
       " 'name_3558',\n",
       " 'name_2336']"
      ]
     },
     "execution_count": 500,
     "metadata": {},
     "output_type": "execute_result"
    }
   ],
   "source": [
    "print(f\"Number of suspicious payees: {len(outlier_feat['Payee Name_'].unique())}\")\n",
    "print(f\"Total payees in dataset: {len(df['Payee Name_'].unique())}\")\n",
    "list(outlier_feat['Payee Name_'].unique())"
   ]
  },
  {
   "cell_type": "code",
   "execution_count": 501,
   "id": "f0c6b259-56d8-4653-ab57-45a986bc38e2",
   "metadata": {
    "tags": []
   },
   "outputs": [
    {
     "name": "stdout",
     "output_type": "stream",
     "text": [
      "Number of suspicious pay agents: 1\n",
      "Total pay agents in dataset: 2519\n"
     ]
    },
    {
     "data": {
      "text/plain": [
       "['agent_11']"
      ]
     },
     "execution_count": 501,
     "metadata": {},
     "output_type": "execute_result"
    }
   ],
   "source": [
    "print(f\"Number of suspicious pay agents: {len(outlier_feat['Pay Agent Name_'].unique())}\")\n",
    "print(f\"Total pay agents in dataset: {len(df['Pay Agent Name_'].unique())}\")\n",
    "list(outlier_feat['Pay Agent Name_'].unique())"
   ]
  },
  {
   "cell_type": "code",
   "execution_count": 502,
   "id": "8f9279d0-2cc2-4e0f-b8d2-73f05f4562c5",
   "metadata": {
    "tags": []
   },
   "outputs": [
    {
     "name": "stdout",
     "output_type": "stream",
     "text": [
      "Number of suspicious send agents: 5\n",
      "Total send agents in dataset: 398\n"
     ]
    },
    {
     "data": {
      "text/plain": [
       "['agent_39', 'agent_246', 'agent_667', 'agent_2050', 'agent_2792']"
      ]
     },
     "execution_count": 502,
     "metadata": {},
     "output_type": "execute_result"
    }
   ],
   "source": [
    "print(f\"Number of suspicious send agents: {len(outlier_feat['Send Agent Name_'].unique())}\")\n",
    "print(f\"Total send agents in dataset: {len(df['Send Agent Name_'].unique())}\")\n",
    "list(outlier_feat['Send Agent Name_'].unique())"
   ]
  },
  {
   "cell_type": "markdown",
   "id": "40bfb5d6-7e9d-470a-96af-601086dc227c",
   "metadata": {},
   "source": [
    "## Analysis"
   ]
  },
  {
   "cell_type": "markdown",
   "id": "48c07e01-d8ed-4505-a980-111804e6aac7",
   "metadata": {},
   "source": [
    "I chose to take a multivariate approach on the frequency to better understand the full picture of our data, and not ommit or include any users who were only suspicious in one way. I chose to omit amount and time between wiring and recieving from the second analysis as I feared it would overpower the importance of these features. \n",
    "\n",
    "\n",
    "Given the following analysis, it appears that 'name_10', and perhaps 'name_2043' are both suspicious senders, judging by their fast wiring and recieving time, and frequency of transaction. 'Agent 11' appears to be the most suspicious pay agent, and 'agent 39' and 'agent 246' are the most suspicious send agents. \n",
    "\n",
    "In the interest of time, I will explore the sender 'name_10' more in depth, as they demonstrated outlier transaction sizes, high, outlier transaction frequency, fast wire and recieve times, and their pay agent also set off red flags. Their reciever/payee recieved money at the same exact Pay Agent every single time, which is very suspicious. They also use the same Send Agent every single time. \n",
    "\n",
    "This is highly suspcicious because all of these transactions are going into the US, and is potentially the \"Front\" of the operation. They don't keep money at these locations, which they are possibly trying to display as suppliers, for very long, almost immediately recieving the money. \n",
    "\n",
    "Additionally, most of their transactions are being sent internationally, mostly to Latin America, but to many different other countries around the world. This is odd for a flower shop. They are most likely using name_10 as a front to show that they are a \"business\" in the US, but in reality they are recieving money from the US and sending it to Latin America ve"
   ]
  },
  {
   "cell_type": "code",
   "execution_count": 525,
   "id": "2de3ef65-4651-407c-a5be-20b538d183d6",
   "metadata": {
    "tags": []
   },
   "outputs": [
    {
     "name": "stdout",
     "output_type": "stream",
     "text": [
      "Total unique recievers: 246\n",
      "Total transactions: 301\n"
     ]
    }
   ],
   "source": [
    "df[df['Sender Name_'] == 'name_10']['Payee Name_'].unique()[:20]\n",
    "print(f\"Total unique recievers: {len(df[df['Sender Name_'] == 'name_10']['Payee Name_'].unique())}\")\n",
    "print(f\"Total transactions: 301\")"
   ]
  },
  {
   "cell_type": "markdown",
   "id": "b8218a5f-a01b-47e0-8e1b-fc9c1d5a73ab",
   "metadata": {},
   "source": [
    "Here, we can see that they are sending money to many different entities, which is a red flag as the user is distributing their money to many different agents, in potentially an attempt at disguising it's origin. If, for example, the sender was paying employees, we would see a more consistent reciever profile. However, the Pay and Send agents are all identical, which is suspicious. Perhaps this is a payment location where employees can pick up their salary."
   ]
  },
  {
   "cell_type": "code",
   "execution_count": 522,
   "id": "8bf96fef-9781-48a2-8af0-e91966b26aa8",
   "metadata": {
    "tags": []
   },
   "outputs": [],
   "source": [
    "user_10 = df_time[df_time['Sender Name_'] == 'name_10']"
   ]
  },
  {
   "cell_type": "code",
   "execution_count": 524,
   "id": "190e81a0-5f80-475e-a8a5-9d74f3c89f13",
   "metadata": {
    "tags": []
   },
   "outputs": [
    {
     "data": {
      "text/plain": [
       "<BarContainer object of 301 artists>"
      ]
     },
     "execution_count": 524,
     "metadata": {},
     "output_type": "execute_result"
    },
    {
     "data": {
      "image/png": "[encoded data removed]",
      "text/plain": [
       "<Figure size 640x480 with 1 Axes>"
      ]
     },
     "metadata": {},
     "output_type": "display_data"
    }
   ],
   "source": [
    "plt.bar(user_10['Send DateTime_DT'], user_10['Amount'])"
   ]
  },
  {
   "cell_type": "markdown",
   "id": "345709b5-d048-47d4-9aee-26191f47ab29",
   "metadata": {},
   "source": [
    "We can see that these wires of money are not consistent over time, suggesting it is not some kind of payroll."
   ]
  },
  {
   "cell_type": "markdown",
   "id": "748b07ef-fa7a-4e25-bdb6-c20b96e7a22f",
   "metadata": {},
   "source": [
    "# Part 2"
   ]
  },
  {
   "cell_type": "markdown",
   "id": "85698931-4ad6-4e85-b7c6-a9d4f1eb582e",
   "metadata": {},
   "source": [
    "### 1. "
   ]
  },
  {
   "cell_type": "markdown",
   "id": "ae4a4c00-f9f8-4c40-a8e3-0b605d20dfcd",
   "metadata": {
    "tags": []
   },
   "source": [
    "I will continue to use user_10 as an example for this question. user_10 does not provide an ID number so that is off the table. However, we see that his most payed payee does include an ID, as do many of the other recipients. We could use this to create an array of associated ID's, and find information about these payees so further uncover information about user_10. "
   ]
  },
  {
   "cell_type": "code",
   "execution_count": null,
   "id": "4284f53b-6e8c-4f02-b9c6-e029ed0ba3f2",
   "metadata": {},
   "outputs": [
    {
     "data": {
      "text/plain": [
       "Payee Address_\n",
       "address_231     6\n",
       "address_1490    5\n",
       "address_57      4\n",
       "address_423     4\n",
       "address_192     4\n",
       "Name: Send DateTime, dtype: int64"
      ]
     },
     "execution_count": 553,
     "metadata": {},
     "output_type": "execute_result"
    }
   ],
   "source": [
    "user_10.groupby(\"Payee Address_\").count()['Send DateTime'].sort_values(ascending=False).head(5)"
   ]
  },
  {
   "cell_type": "code",
   "execution_count": null,
   "id": "370e9c77-2cd9-46a9-9dc6-065d9cdd08ee",
   "metadata": {},
   "outputs": [
    {
     "data": {
      "text/plain": [
       "1355    1\n",
       "Name: Payee ID1 info, dtype: int64"
      ]
     },
     "execution_count": 566,
     "metadata": {},
     "output_type": "execute_result"
    }
   ],
   "source": [
    "df[df['Payee Address_'] == 'address_231']['Payee ID1 info'].head(1)"
   ]
  },
  {
   "cell_type": "code",
   "execution_count": null,
   "id": "96707dc6-560a-47e3-b5f3-111da419f1e0",
   "metadata": {},
   "outputs": [
    {
     "data": {
      "text/plain": [
       "10    agent_11\n",
       "Name: Pay Agent Name_, dtype: object"
      ]
     },
     "execution_count": 565,
     "metadata": {},
     "output_type": "execute_result"
    }
   ],
   "source": [
    "user_10['Pay Agent Name_'].head(1)"
   ]
  },
  {
   "cell_type": "code",
   "execution_count": null,
   "id": "2a837a35-aba7-4305-93c5-0be1d6fa5082",
   "metadata": {},
   "outputs": [
    {
     "data": {
      "text/plain": [
       "10    agent_39\n",
       "Name: Send Agent Name_, dtype: object"
      ]
     },
     "execution_count": 564,
     "metadata": {},
     "output_type": "execute_result"
    }
   ],
   "source": [
    "user_10['Send Agent Name_'].head(1)"
   ]
  },
  {
   "cell_type": "markdown",
   "id": "da43e29a-37b6-4884-8ef4-968010bc27de",
   "metadata": {
    "tags": []
   },
   "source": [
    "Additionally, we have the Pay and Send Agent Name as \"agent_11\" and \"agent_39\". This user sends money from, and has the recipients recieve money, from the exact same location very time, allowing us to find who the business is registered too, and identify if this is a legitamate \"flower\" business or not."
   ]
  },
  {
   "cell_type": "markdown",
   "id": "2af0cf8c-1d4b-4e39-ae50-82d407e844f7",
   "metadata": {},
   "source": [
    "## 2. "
   ]
  },
  {
   "cell_type": "markdown",
   "id": "4264ecf9-2aeb-47f8-8c82-7da5f287d080",
   "metadata": {},
   "source": [
    "If I were to format these results to a jury/commanding officers, I would first explain the concept of outliers, and then display a few, NON log normalized histograms (with count on the y axis). I would explain how most of their transactions in this \"normal\" range are going abroad, whereas the outliers are the only transactions staying in the US. I would explain how, for a flower shop, you would expect that they would have more US based costs, even if they were importing flowers from Latin America. Additionally, all US expenses are recieved less than a minute after they are sent, indicating they want this money to exit the US banking system as fast as possible. I would explain how there is only 1 US location that they send lots of money too, and it is only coming from one sender in their data. I would recommend commanding officers to set up in the recieving location of user_10's payments, and to investigate if this is a legitamite business or not. I would also recommend we further investigate the send addresses of these international transactions, and determine if these are flower business entities or not. "
   ]
  },
  {
   "cell_type": "code",
   "execution_count": null,
   "id": "63c97c23-bb2d-4c29-a478-e800a831b52e",
   "metadata": {},
   "outputs": [],
   "source": []
  }
 ],
 "metadata": {
  "kernelspec": {
   "display_name": "Python 3 (ipykernel)",
   "language": "python",
   "name": "python3"
  },
  "language_info": {
   "codemirror_mode": {
    "name": "ipython",
    "version": 3
   },
   "file_extension": ".py",
   "mimetype": "text/x-python",
   "name": "python",
   "nbconvert_exporter": "python",
   "pygments_lexer": "ipython3",
   "version": "3.11.2"
  }
 },
 "nbformat": 4,
 "nbformat_minor": 5
}
